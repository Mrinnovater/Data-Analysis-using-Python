{
  "nbformat": 4,
  "nbformat_minor": 0,
  "metadata": {
    "colab": {
      "provenance": []
    },
    "kernelspec": {
      "name": "python3",
      "display_name": "Python 3"
    },
    "language_info": {
      "name": "python"
    }
  },
  "cells": [
    {
      "cell_type": "code",
      "source": [
        "import pandas as pd\n",
        "import numpy as np\n",
        "from sklearn.model_selection import train_test_split\n",
        "from sklearn.preprocessing import StandardScaler, LabelEncoder\n",
        "from sklearn.linear_model import LogisticRegression\n",
        "from sklearn.ensemble import RandomForestClassifier\n",
        "from sklearn.svm import SVC\n",
        "from sklearn.metrics import accuracy_score, precision_score, recall_score, f1_score\n",
        "from sklearn.decomposition import PCA\n",
        "from scipy.stats import ttest_1samp, chi2_contingency\n",
        "from statsmodels.stats.weightstats import ztest"
      ],
      "metadata": {
        "id": "Ij3t9lV6WYXp"
      },
      "execution_count": 26,
      "outputs": []
    },
    {
      "cell_type": "code",
      "execution_count": 27,
      "metadata": {
        "id": "SdbNqYZDeX7A"
      },
      "outputs": [],
      "source": [
        "from google.colab import drive"
      ]
    },
    {
      "cell_type": "code",
      "source": [
        "drive.mount('/content/drive')"
      ],
      "metadata": {
        "colab": {
          "base_uri": "https://localhost:8080/"
        },
        "id": "k7R03q93V2xi",
        "outputId": "afd16dc7-f00f-4943-85d3-f96c9497ff66"
      },
      "execution_count": 28,
      "outputs": [
        {
          "output_type": "stream",
          "name": "stdout",
          "text": [
            "Drive already mounted at /content/drive; to attempt to forcibly remount, call drive.mount(\"/content/drive\", force_remount=True).\n"
          ]
        }
      ]
    },
    {
      "cell_type": "code",
      "source": [
        "# Load the dataset\n",
        "file_path = \"/content/drive/MyDrive/Data_Analysis_using_python/Student_Mental_Stress_and_Coping_Mechanisms.csv\"\n",
        "df = pd.read_csv(file_path)"
      ],
      "metadata": {
        "id": "PqiedX2SV5m_"
      },
      "execution_count": 29,
      "outputs": []
    },
    {
      "cell_type": "code",
      "source": [
        "# Display basic info and first few rows\n",
        "df.info()"
      ],
      "metadata": {
        "colab": {
          "base_uri": "https://localhost:8080/"
        },
        "id": "DZ5nEjk3WcLG",
        "outputId": "48a7b92e-722a-473a-d6f8-74d0dd8df38a"
      },
      "execution_count": 30,
      "outputs": [
        {
          "output_type": "stream",
          "name": "stdout",
          "text": [
            "<class 'pandas.core.frame.DataFrame'>\n",
            "RangeIndex: 760 entries, 0 to 759\n",
            "Data columns (total 20 columns):\n",
            " #   Column                              Non-Null Count  Dtype \n",
            "---  ------                              --------------  ----- \n",
            " 0   Student ID                          760 non-null    object\n",
            " 1   Age                                 760 non-null    int64 \n",
            " 2   Gender                              760 non-null    object\n",
            " 3   Academic Performance (GPA)          760 non-null    int64 \n",
            " 4   Study Hours Per Week                760 non-null    int64 \n",
            " 5   Social Media Usage (Hours per day)  760 non-null    int64 \n",
            " 6   Sleep Duration (Hours per night)    760 non-null    int64 \n",
            " 7   Physical Exercise (Hours per week)  760 non-null    int64 \n",
            " 8   Family Support                      760 non-null    int64 \n",
            " 9   Financial Stress                    760 non-null    int64 \n",
            " 10  Peer Pressure                       760 non-null    int64 \n",
            " 11  Relationship Stress                 760 non-null    int64 \n",
            " 12  Mental Stress Level                 760 non-null    int64 \n",
            " 13  Counseling Attendance               760 non-null    object\n",
            " 14  Diet Quality                        760 non-null    int64 \n",
            " 15  Stress Coping Mechanisms            760 non-null    object\n",
            " 16  Cognitive Distortions               760 non-null    int64 \n",
            " 17  Family Mental Health History        760 non-null    object\n",
            " 18  Medical Condition                   760 non-null    object\n",
            " 19  Substance Use                       760 non-null    int64 \n",
            "dtypes: int64(14), object(6)\n",
            "memory usage: 118.9+ KB\n"
          ]
        }
      ]
    },
    {
      "cell_type": "code",
      "source": [
        "df.head()"
      ],
      "metadata": {
        "colab": {
          "base_uri": "https://localhost:8080/",
          "height": 434
        },
        "id": "VwNn8rpsWnjL",
        "outputId": "578c0076-7cff-4f7b-a9b9-e63911dda319"
      },
      "execution_count": 31,
      "outputs": [
        {
          "output_type": "execute_result",
          "data": {
            "text/plain": [
              "    Student ID  Age  Gender  Academic Performance (GPA)  Study Hours Per Week  \\\n",
              "0  802-17-3671   22  Female                           2                     9   \n",
              "1  871-12-8572   25  Female                           0                    28   \n",
              "2  495-13-2672   24  Female                           0                    45   \n",
              "3  365-77-2496   20    Male                           2                     8   \n",
              "4  664-76-5622   28    Male                           0                    14   \n",
              "\n",
              "   Social Media Usage (Hours per day)  Sleep Duration (Hours per night)  \\\n",
              "0                                   2                                12   \n",
              "1                                   0                                 6   \n",
              "2                                   3                                12   \n",
              "3                                   7                                 7   \n",
              "4                                   6                                 8   \n",
              "\n",
              "   Physical Exercise (Hours per week)  Family Support    Financial Stress  \\\n",
              "0                                   2                 1                 1   \n",
              "1                                   0                 1                 1   \n",
              "2                                  10                 3                 3   \n",
              "3                                   4                 1                 3   \n",
              "4                                   1                 2                 4   \n",
              "\n",
              "   Peer Pressure  Relationship Stress  Mental Stress Level  \\\n",
              "0              3                    5                    9   \n",
              "1              1                    2                    9   \n",
              "2              1                    4                    9   \n",
              "3              2                    5                    1   \n",
              "4              4                    2                    7   \n",
              "\n",
              "  Counseling Attendance  Diet Quality Stress Coping Mechanisms  \\\n",
              "0                    No             1  Walking or Nature Walks   \n",
              "1                   Yes             3               Meditation   \n",
              "2                   Yes             5                  Reading   \n",
              "3                    No             1  Social Media Engagement   \n",
              "4                   Yes             1                 Exercise   \n",
              "\n",
              "   Cognitive Distortions Family Mental Health History Medical Condition  \\\n",
              "0                      4                           No               Yes   \n",
              "1                      2                          Yes                No   \n",
              "2                      1                          Yes               Yes   \n",
              "3                      2                          Yes                No   \n",
              "4                      1                          Yes                No   \n",
              "\n",
              "   Substance Use  \n",
              "0              1  \n",
              "1              1  \n",
              "2              3  \n",
              "3              4  \n",
              "4              3  "
            ],
            "text/html": [
              "\n",
              "  <div id=\"df-bb4a8208-c056-4176-821a-680236087827\" class=\"colab-df-container\">\n",
              "    <div>\n",
              "<style scoped>\n",
              "    .dataframe tbody tr th:only-of-type {\n",
              "        vertical-align: middle;\n",
              "    }\n",
              "\n",
              "    .dataframe tbody tr th {\n",
              "        vertical-align: top;\n",
              "    }\n",
              "\n",
              "    .dataframe thead th {\n",
              "        text-align: right;\n",
              "    }\n",
              "</style>\n",
              "<table border=\"1\" class=\"dataframe\">\n",
              "  <thead>\n",
              "    <tr style=\"text-align: right;\">\n",
              "      <th></th>\n",
              "      <th>Student ID</th>\n",
              "      <th>Age</th>\n",
              "      <th>Gender</th>\n",
              "      <th>Academic Performance (GPA)</th>\n",
              "      <th>Study Hours Per Week</th>\n",
              "      <th>Social Media Usage (Hours per day)</th>\n",
              "      <th>Sleep Duration (Hours per night)</th>\n",
              "      <th>Physical Exercise (Hours per week)</th>\n",
              "      <th>Family Support</th>\n",
              "      <th>Financial Stress</th>\n",
              "      <th>Peer Pressure</th>\n",
              "      <th>Relationship Stress</th>\n",
              "      <th>Mental Stress Level</th>\n",
              "      <th>Counseling Attendance</th>\n",
              "      <th>Diet Quality</th>\n",
              "      <th>Stress Coping Mechanisms</th>\n",
              "      <th>Cognitive Distortions</th>\n",
              "      <th>Family Mental Health History</th>\n",
              "      <th>Medical Condition</th>\n",
              "      <th>Substance Use</th>\n",
              "    </tr>\n",
              "  </thead>\n",
              "  <tbody>\n",
              "    <tr>\n",
              "      <th>0</th>\n",
              "      <td>802-17-3671</td>\n",
              "      <td>22</td>\n",
              "      <td>Female</td>\n",
              "      <td>2</td>\n",
              "      <td>9</td>\n",
              "      <td>2</td>\n",
              "      <td>12</td>\n",
              "      <td>2</td>\n",
              "      <td>1</td>\n",
              "      <td>1</td>\n",
              "      <td>3</td>\n",
              "      <td>5</td>\n",
              "      <td>9</td>\n",
              "      <td>No</td>\n",
              "      <td>1</td>\n",
              "      <td>Walking or Nature Walks</td>\n",
              "      <td>4</td>\n",
              "      <td>No</td>\n",
              "      <td>Yes</td>\n",
              "      <td>1</td>\n",
              "    </tr>\n",
              "    <tr>\n",
              "      <th>1</th>\n",
              "      <td>871-12-8572</td>\n",
              "      <td>25</td>\n",
              "      <td>Female</td>\n",
              "      <td>0</td>\n",
              "      <td>28</td>\n",
              "      <td>0</td>\n",
              "      <td>6</td>\n",
              "      <td>0</td>\n",
              "      <td>1</td>\n",
              "      <td>1</td>\n",
              "      <td>1</td>\n",
              "      <td>2</td>\n",
              "      <td>9</td>\n",
              "      <td>Yes</td>\n",
              "      <td>3</td>\n",
              "      <td>Meditation</td>\n",
              "      <td>2</td>\n",
              "      <td>Yes</td>\n",
              "      <td>No</td>\n",
              "      <td>1</td>\n",
              "    </tr>\n",
              "    <tr>\n",
              "      <th>2</th>\n",
              "      <td>495-13-2672</td>\n",
              "      <td>24</td>\n",
              "      <td>Female</td>\n",
              "      <td>0</td>\n",
              "      <td>45</td>\n",
              "      <td>3</td>\n",
              "      <td>12</td>\n",
              "      <td>10</td>\n",
              "      <td>3</td>\n",
              "      <td>3</td>\n",
              "      <td>1</td>\n",
              "      <td>4</td>\n",
              "      <td>9</td>\n",
              "      <td>Yes</td>\n",
              "      <td>5</td>\n",
              "      <td>Reading</td>\n",
              "      <td>1</td>\n",
              "      <td>Yes</td>\n",
              "      <td>Yes</td>\n",
              "      <td>3</td>\n",
              "    </tr>\n",
              "    <tr>\n",
              "      <th>3</th>\n",
              "      <td>365-77-2496</td>\n",
              "      <td>20</td>\n",
              "      <td>Male</td>\n",
              "      <td>2</td>\n",
              "      <td>8</td>\n",
              "      <td>7</td>\n",
              "      <td>7</td>\n",
              "      <td>4</td>\n",
              "      <td>1</td>\n",
              "      <td>3</td>\n",
              "      <td>2</td>\n",
              "      <td>5</td>\n",
              "      <td>1</td>\n",
              "      <td>No</td>\n",
              "      <td>1</td>\n",
              "      <td>Social Media Engagement</td>\n",
              "      <td>2</td>\n",
              "      <td>Yes</td>\n",
              "      <td>No</td>\n",
              "      <td>4</td>\n",
              "    </tr>\n",
              "    <tr>\n",
              "      <th>4</th>\n",
              "      <td>664-76-5622</td>\n",
              "      <td>28</td>\n",
              "      <td>Male</td>\n",
              "      <td>0</td>\n",
              "      <td>14</td>\n",
              "      <td>6</td>\n",
              "      <td>8</td>\n",
              "      <td>1</td>\n",
              "      <td>2</td>\n",
              "      <td>4</td>\n",
              "      <td>4</td>\n",
              "      <td>2</td>\n",
              "      <td>7</td>\n",
              "      <td>Yes</td>\n",
              "      <td>1</td>\n",
              "      <td>Exercise</td>\n",
              "      <td>1</td>\n",
              "      <td>Yes</td>\n",
              "      <td>No</td>\n",
              "      <td>3</td>\n",
              "    </tr>\n",
              "  </tbody>\n",
              "</table>\n",
              "</div>\n",
              "    <div class=\"colab-df-buttons\">\n",
              "\n",
              "  <div class=\"colab-df-container\">\n",
              "    <button class=\"colab-df-convert\" onclick=\"convertToInteractive('df-bb4a8208-c056-4176-821a-680236087827')\"\n",
              "            title=\"Convert this dataframe to an interactive table.\"\n",
              "            style=\"display:none;\">\n",
              "\n",
              "  <svg xmlns=\"http://www.w3.org/2000/svg\" height=\"24px\" viewBox=\"0 -960 960 960\">\n",
              "    <path d=\"M120-120v-720h720v720H120Zm60-500h600v-160H180v160Zm220 220h160v-160H400v160Zm0 220h160v-160H400v160ZM180-400h160v-160H180v160Zm440 0h160v-160H620v160ZM180-180h160v-160H180v160Zm440 0h160v-160H620v160Z\"/>\n",
              "  </svg>\n",
              "    </button>\n",
              "\n",
              "  <style>\n",
              "    .colab-df-container {\n",
              "      display:flex;\n",
              "      gap: 12px;\n",
              "    }\n",
              "\n",
              "    .colab-df-convert {\n",
              "      background-color: #E8F0FE;\n",
              "      border: none;\n",
              "      border-radius: 50%;\n",
              "      cursor: pointer;\n",
              "      display: none;\n",
              "      fill: #1967D2;\n",
              "      height: 32px;\n",
              "      padding: 0 0 0 0;\n",
              "      width: 32px;\n",
              "    }\n",
              "\n",
              "    .colab-df-convert:hover {\n",
              "      background-color: #E2EBFA;\n",
              "      box-shadow: 0px 1px 2px rgba(60, 64, 67, 0.3), 0px 1px 3px 1px rgba(60, 64, 67, 0.15);\n",
              "      fill: #174EA6;\n",
              "    }\n",
              "\n",
              "    .colab-df-buttons div {\n",
              "      margin-bottom: 4px;\n",
              "    }\n",
              "\n",
              "    [theme=dark] .colab-df-convert {\n",
              "      background-color: #3B4455;\n",
              "      fill: #D2E3FC;\n",
              "    }\n",
              "\n",
              "    [theme=dark] .colab-df-convert:hover {\n",
              "      background-color: #434B5C;\n",
              "      box-shadow: 0px 1px 3px 1px rgba(0, 0, 0, 0.15);\n",
              "      filter: drop-shadow(0px 1px 2px rgba(0, 0, 0, 0.3));\n",
              "      fill: #FFFFFF;\n",
              "    }\n",
              "  </style>\n",
              "\n",
              "    <script>\n",
              "      const buttonEl =\n",
              "        document.querySelector('#df-bb4a8208-c056-4176-821a-680236087827 button.colab-df-convert');\n",
              "      buttonEl.style.display =\n",
              "        google.colab.kernel.accessAllowed ? 'block' : 'none';\n",
              "\n",
              "      async function convertToInteractive(key) {\n",
              "        const element = document.querySelector('#df-bb4a8208-c056-4176-821a-680236087827');\n",
              "        const dataTable =\n",
              "          await google.colab.kernel.invokeFunction('convertToInteractive',\n",
              "                                                    [key], {});\n",
              "        if (!dataTable) return;\n",
              "\n",
              "        const docLinkHtml = 'Like what you see? Visit the ' +\n",
              "          '<a target=\"_blank\" href=https://colab.research.google.com/notebooks/data_table.ipynb>data table notebook</a>'\n",
              "          + ' to learn more about interactive tables.';\n",
              "        element.innerHTML = '';\n",
              "        dataTable['output_type'] = 'display_data';\n",
              "        await google.colab.output.renderOutput(dataTable, element);\n",
              "        const docLink = document.createElement('div');\n",
              "        docLink.innerHTML = docLinkHtml;\n",
              "        element.appendChild(docLink);\n",
              "      }\n",
              "    </script>\n",
              "  </div>\n",
              "\n",
              "\n",
              "<div id=\"df-3e47a8e5-b7e4-4629-aad3-f6b265baad2f\">\n",
              "  <button class=\"colab-df-quickchart\" onclick=\"quickchart('df-3e47a8e5-b7e4-4629-aad3-f6b265baad2f')\"\n",
              "            title=\"Suggest charts\"\n",
              "            style=\"display:none;\">\n",
              "\n",
              "<svg xmlns=\"http://www.w3.org/2000/svg\" height=\"24px\"viewBox=\"0 0 24 24\"\n",
              "     width=\"24px\">\n",
              "    <g>\n",
              "        <path d=\"M19 3H5c-1.1 0-2 .9-2 2v14c0 1.1.9 2 2 2h14c1.1 0 2-.9 2-2V5c0-1.1-.9-2-2-2zM9 17H7v-7h2v7zm4 0h-2V7h2v10zm4 0h-2v-4h2v4z\"/>\n",
              "    </g>\n",
              "</svg>\n",
              "  </button>\n",
              "\n",
              "<style>\n",
              "  .colab-df-quickchart {\n",
              "      --bg-color: #E8F0FE;\n",
              "      --fill-color: #1967D2;\n",
              "      --hover-bg-color: #E2EBFA;\n",
              "      --hover-fill-color: #174EA6;\n",
              "      --disabled-fill-color: #AAA;\n",
              "      --disabled-bg-color: #DDD;\n",
              "  }\n",
              "\n",
              "  [theme=dark] .colab-df-quickchart {\n",
              "      --bg-color: #3B4455;\n",
              "      --fill-color: #D2E3FC;\n",
              "      --hover-bg-color: #434B5C;\n",
              "      --hover-fill-color: #FFFFFF;\n",
              "      --disabled-bg-color: #3B4455;\n",
              "      --disabled-fill-color: #666;\n",
              "  }\n",
              "\n",
              "  .colab-df-quickchart {\n",
              "    background-color: var(--bg-color);\n",
              "    border: none;\n",
              "    border-radius: 50%;\n",
              "    cursor: pointer;\n",
              "    display: none;\n",
              "    fill: var(--fill-color);\n",
              "    height: 32px;\n",
              "    padding: 0;\n",
              "    width: 32px;\n",
              "  }\n",
              "\n",
              "  .colab-df-quickchart:hover {\n",
              "    background-color: var(--hover-bg-color);\n",
              "    box-shadow: 0 1px 2px rgba(60, 64, 67, 0.3), 0 1px 3px 1px rgba(60, 64, 67, 0.15);\n",
              "    fill: var(--button-hover-fill-color);\n",
              "  }\n",
              "\n",
              "  .colab-df-quickchart-complete:disabled,\n",
              "  .colab-df-quickchart-complete:disabled:hover {\n",
              "    background-color: var(--disabled-bg-color);\n",
              "    fill: var(--disabled-fill-color);\n",
              "    box-shadow: none;\n",
              "  }\n",
              "\n",
              "  .colab-df-spinner {\n",
              "    border: 2px solid var(--fill-color);\n",
              "    border-color: transparent;\n",
              "    border-bottom-color: var(--fill-color);\n",
              "    animation:\n",
              "      spin 1s steps(1) infinite;\n",
              "  }\n",
              "\n",
              "  @keyframes spin {\n",
              "    0% {\n",
              "      border-color: transparent;\n",
              "      border-bottom-color: var(--fill-color);\n",
              "      border-left-color: var(--fill-color);\n",
              "    }\n",
              "    20% {\n",
              "      border-color: transparent;\n",
              "      border-left-color: var(--fill-color);\n",
              "      border-top-color: var(--fill-color);\n",
              "    }\n",
              "    30% {\n",
              "      border-color: transparent;\n",
              "      border-left-color: var(--fill-color);\n",
              "      border-top-color: var(--fill-color);\n",
              "      border-right-color: var(--fill-color);\n",
              "    }\n",
              "    40% {\n",
              "      border-color: transparent;\n",
              "      border-right-color: var(--fill-color);\n",
              "      border-top-color: var(--fill-color);\n",
              "    }\n",
              "    60% {\n",
              "      border-color: transparent;\n",
              "      border-right-color: var(--fill-color);\n",
              "    }\n",
              "    80% {\n",
              "      border-color: transparent;\n",
              "      border-right-color: var(--fill-color);\n",
              "      border-bottom-color: var(--fill-color);\n",
              "    }\n",
              "    90% {\n",
              "      border-color: transparent;\n",
              "      border-bottom-color: var(--fill-color);\n",
              "    }\n",
              "  }\n",
              "</style>\n",
              "\n",
              "  <script>\n",
              "    async function quickchart(key) {\n",
              "      const quickchartButtonEl =\n",
              "        document.querySelector('#' + key + ' button');\n",
              "      quickchartButtonEl.disabled = true;  // To prevent multiple clicks.\n",
              "      quickchartButtonEl.classList.add('colab-df-spinner');\n",
              "      try {\n",
              "        const charts = await google.colab.kernel.invokeFunction(\n",
              "            'suggestCharts', [key], {});\n",
              "      } catch (error) {\n",
              "        console.error('Error during call to suggestCharts:', error);\n",
              "      }\n",
              "      quickchartButtonEl.classList.remove('colab-df-spinner');\n",
              "      quickchartButtonEl.classList.add('colab-df-quickchart-complete');\n",
              "    }\n",
              "    (() => {\n",
              "      let quickchartButtonEl =\n",
              "        document.querySelector('#df-3e47a8e5-b7e4-4629-aad3-f6b265baad2f button');\n",
              "      quickchartButtonEl.style.display =\n",
              "        google.colab.kernel.accessAllowed ? 'block' : 'none';\n",
              "    })();\n",
              "  </script>\n",
              "</div>\n",
              "\n",
              "    </div>\n",
              "  </div>\n"
            ],
            "application/vnd.google.colaboratory.intrinsic+json": {
              "type": "dataframe",
              "variable_name": "df",
              "summary": "{\n  \"name\": \"df\",\n  \"rows\": 760,\n  \"fields\": [\n    {\n      \"column\": \"Student ID\",\n      \"properties\": {\n        \"dtype\": \"string\",\n        \"num_unique_values\": 760,\n        \"samples\": [\n          \"571-09-2803\",\n          \"711-96-0039\",\n          \"755-25-6365\"\n        ],\n        \"semantic_type\": \"\",\n        \"description\": \"\"\n      }\n    },\n    {\n      \"column\": \"Age\",\n      \"properties\": {\n        \"dtype\": \"number\",\n        \"std\": 3,\n        \"min\": 18,\n        \"max\": 30,\n        \"num_unique_values\": 13,\n        \"samples\": [\n          29,\n          27,\n          22\n        ],\n        \"semantic_type\": \"\",\n        \"description\": \"\"\n      }\n    },\n    {\n      \"column\": \"Gender\",\n      \"properties\": {\n        \"dtype\": \"category\",\n        \"num_unique_values\": 8,\n        \"samples\": [\n          \"Male\",\n          \"Polygender\",\n          \"Female\"\n        ],\n        \"semantic_type\": \"\",\n        \"description\": \"\"\n      }\n    },\n    {\n      \"column\": \"Academic Performance (GPA)\",\n      \"properties\": {\n        \"dtype\": \"number\",\n        \"std\": 1,\n        \"min\": 0,\n        \"max\": 4,\n        \"num_unique_values\": 5,\n        \"samples\": [\n          0,\n          4,\n          1\n        ],\n        \"semantic_type\": \"\",\n        \"description\": \"\"\n      }\n    },\n    {\n      \"column\": \"Study Hours Per Week\",\n      \"properties\": {\n        \"dtype\": \"number\",\n        \"std\": 18,\n        \"min\": 0,\n        \"max\": 60,\n        \"num_unique_values\": 61,\n        \"samples\": [\n          9,\n          27,\n          53\n        ],\n        \"semantic_type\": \"\",\n        \"description\": \"\"\n      }\n    },\n    {\n      \"column\": \"Social Media Usage (Hours per day)\",\n      \"properties\": {\n        \"dtype\": \"number\",\n        \"std\": 2,\n        \"min\": 0,\n        \"max\": 8,\n        \"num_unique_values\": 9,\n        \"samples\": [\n          8,\n          0,\n          5\n        ],\n        \"semantic_type\": \"\",\n        \"description\": \"\"\n      }\n    },\n    {\n      \"column\": \"Sleep Duration (Hours per night)\",\n      \"properties\": {\n        \"dtype\": \"number\",\n        \"std\": 2,\n        \"min\": 4,\n        \"max\": 12,\n        \"num_unique_values\": 9,\n        \"samples\": [\n          10,\n          6,\n          9\n        ],\n        \"semantic_type\": \"\",\n        \"description\": \"\"\n      }\n    },\n    {\n      \"column\": \"Physical Exercise (Hours per week)\",\n      \"properties\": {\n        \"dtype\": \"number\",\n        \"std\": 3,\n        \"min\": 0,\n        \"max\": 10,\n        \"num_unique_values\": 11,\n        \"samples\": [\n          3,\n          2,\n          6\n        ],\n        \"semantic_type\": \"\",\n        \"description\": \"\"\n      }\n    },\n    {\n      \"column\": \"Family Support  \",\n      \"properties\": {\n        \"dtype\": \"number\",\n        \"std\": 1,\n        \"min\": 1,\n        \"max\": 5,\n        \"num_unique_values\": 5,\n        \"samples\": [\n          3,\n          4,\n          2\n        ],\n        \"semantic_type\": \"\",\n        \"description\": \"\"\n      }\n    },\n    {\n      \"column\": \"Financial Stress\",\n      \"properties\": {\n        \"dtype\": \"number\",\n        \"std\": 1,\n        \"min\": 1,\n        \"max\": 5,\n        \"num_unique_values\": 5,\n        \"samples\": [\n          3,\n          2,\n          4\n        ],\n        \"semantic_type\": \"\",\n        \"description\": \"\"\n      }\n    },\n    {\n      \"column\": \"Peer Pressure\",\n      \"properties\": {\n        \"dtype\": \"number\",\n        \"std\": 1,\n        \"min\": 1,\n        \"max\": 5,\n        \"num_unique_values\": 5,\n        \"samples\": [\n          1,\n          5,\n          2\n        ],\n        \"semantic_type\": \"\",\n        \"description\": \"\"\n      }\n    },\n    {\n      \"column\": \"Relationship Stress\",\n      \"properties\": {\n        \"dtype\": \"number\",\n        \"std\": 1,\n        \"min\": 1,\n        \"max\": 5,\n        \"num_unique_values\": 5,\n        \"samples\": [\n          2,\n          1,\n          4\n        ],\n        \"semantic_type\": \"\",\n        \"description\": \"\"\n      }\n    },\n    {\n      \"column\": \"Mental Stress Level\",\n      \"properties\": {\n        \"dtype\": \"number\",\n        \"std\": 2,\n        \"min\": 1,\n        \"max\": 10,\n        \"num_unique_values\": 10,\n        \"samples\": [\n          6,\n          1,\n          4\n        ],\n        \"semantic_type\": \"\",\n        \"description\": \"\"\n      }\n    },\n    {\n      \"column\": \"Counseling Attendance\",\n      \"properties\": {\n        \"dtype\": \"category\",\n        \"num_unique_values\": 2,\n        \"samples\": [\n          \"Yes\",\n          \"No\"\n        ],\n        \"semantic_type\": \"\",\n        \"description\": \"\"\n      }\n    },\n    {\n      \"column\": \"Diet Quality\",\n      \"properties\": {\n        \"dtype\": \"number\",\n        \"std\": 1,\n        \"min\": 1,\n        \"max\": 5,\n        \"num_unique_values\": 5,\n        \"samples\": [\n          3,\n          2\n        ],\n        \"semantic_type\": \"\",\n        \"description\": \"\"\n      }\n    },\n    {\n      \"column\": \"Stress Coping Mechanisms\",\n      \"properties\": {\n        \"dtype\": \"category\",\n        \"num_unique_values\": 10,\n        \"samples\": [\n          \"Spending Time Alone\",\n          \"Meditation\"\n        ],\n        \"semantic_type\": \"\",\n        \"description\": \"\"\n      }\n    },\n    {\n      \"column\": \"Cognitive Distortions\",\n      \"properties\": {\n        \"dtype\": \"number\",\n        \"std\": 1,\n        \"min\": 1,\n        \"max\": 5,\n        \"num_unique_values\": 5,\n        \"samples\": [\n          2,\n          5\n        ],\n        \"semantic_type\": \"\",\n        \"description\": \"\"\n      }\n    },\n    {\n      \"column\": \"Family Mental Health History\",\n      \"properties\": {\n        \"dtype\": \"category\",\n        \"num_unique_values\": 2,\n        \"samples\": [\n          \"Yes\",\n          \"No\"\n        ],\n        \"semantic_type\": \"\",\n        \"description\": \"\"\n      }\n    },\n    {\n      \"column\": \"Medical Condition\",\n      \"properties\": {\n        \"dtype\": \"category\",\n        \"num_unique_values\": 2,\n        \"samples\": [\n          \"No\",\n          \"Yes\"\n        ],\n        \"semantic_type\": \"\",\n        \"description\": \"\"\n      }\n    },\n    {\n      \"column\": \"Substance Use\",\n      \"properties\": {\n        \"dtype\": \"number\",\n        \"std\": 1,\n        \"min\": 1,\n        \"max\": 5,\n        \"num_unique_values\": 5,\n        \"samples\": [\n          3,\n          2\n        ],\n        \"semantic_type\": \"\",\n        \"description\": \"\"\n      }\n    }\n  ]\n}"
            }
          },
          "metadata": {},
          "execution_count": 31
        }
      ]
    },
    {
      "cell_type": "code",
      "source": [
        "# Drop unnecessary columns\n",
        "df.drop(columns=[\"Student ID\"], inplace=True)"
      ],
      "metadata": {
        "id": "J6INRlcWYZNz"
      },
      "execution_count": 32,
      "outputs": []
    },
    {
      "cell_type": "code",
      "source": [
        "# Encode categorical variables\n",
        "categorical_columns = [\"Gender\", \"Counseling Attendance\", \"Stress Coping Mechanisms\",\n",
        "                        \"Family Mental Health History\", \"Medical Condition\"]\n",
        "label_encoders = {col: LabelEncoder() for col in categorical_columns}\n",
        "for col in categorical_columns:\n",
        "    df[col] = label_encoders[col].fit_transform(df[col])"
      ],
      "metadata": {
        "id": "kDgxJAcVYbaW"
      },
      "execution_count": 33,
      "outputs": []
    },
    {
      "cell_type": "code",
      "source": [
        "# Extract features and target variable\n",
        "X = df.drop(columns=[\"Mental Stress Level\"])\n",
        "y = df[\"Mental Stress Level\"]"
      ],
      "metadata": {
        "id": "JfXxiSlYYc8z"
      },
      "execution_count": 34,
      "outputs": []
    },
    {
      "cell_type": "code",
      "source": [
        "# Standardize numerical features\n",
        "scaler = StandardScaler()\n",
        "X_scaled = scaler.fit_transform(X)"
      ],
      "metadata": {
        "id": "7Tjcale8YeNF"
      },
      "execution_count": 35,
      "outputs": []
    },
    {
      "cell_type": "code",
      "source": [
        "# Split into training and testing sets\n",
        "X_train, X_test, y_train, y_test = train_test_split(X_scaled, y, test_size=0.2, random_state=42)"
      ],
      "metadata": {
        "id": "obwaljHzYfSG"
      },
      "execution_count": 36,
      "outputs": []
    },
    {
      "cell_type": "code",
      "source": [
        "# Initialize and train models\n",
        "models = {\n",
        "    \"Logistic Regression\": LogisticRegression(),\n",
        "    \"Random Forest\": RandomForestClassifier(random_state=42),\n",
        "    \"SVM\": SVC()\n",
        "}\n",
        "\n",
        "results = {}\n",
        "for name, model in models.items():\n",
        "    model.fit(X_train, y_train)\n",
        "    y_pred = model.predict(X_test)\n",
        "    results[name] = {\n",
        "        \"Accuracy\": accuracy_score(y_test, y_pred),\n",
        "        \"Precision\": precision_score(y_test, y_pred, average=\"weighted\"),\n",
        "        \"Recall\": recall_score(y_test, y_pred, average=\"weighted\"),\n",
        "        \"F1-Score\": f1_score(y_test, y_pred, average=\"weighted\")\n",
        "    }"
      ],
      "metadata": {
        "id": "Sc72RQ1vYgtp"
      },
      "execution_count": 37,
      "outputs": []
    },
    {
      "cell_type": "code",
      "source": [
        "# Feature Importance from Random Forest\n",
        "rf_model = models[\"Random Forest\"]\n",
        "feature_importance = rf_model.feature_importances_\n",
        "feature_names = X.columns\n",
        "sorted_features = sorted(zip(feature_names, feature_importance), key=lambda x: x[1], reverse=True)\n",
        "top_features = sorted_features[:3]"
      ],
      "metadata": {
        "id": "7kXtHAKCYiGd"
      },
      "execution_count": 38,
      "outputs": []
    },
    {
      "cell_type": "code",
      "source": [
        "# Apply PCA\n",
        "pca = PCA(n_components=2)\n",
        "X_pca = pca.fit_transform(X_scaled)"
      ],
      "metadata": {
        "id": "UXWv_7--YjvX"
      },
      "execution_count": 39,
      "outputs": []
    },
    {
      "cell_type": "code",
      "source": [
        "# One-sample T-test (Hypothesis: Mean = 5)\n",
        "t_stat, p_value_ttest = ttest_1samp(df[\"Mental Stress Level\"], 5)"
      ],
      "metadata": {
        "id": "4glNpwfQYlFx"
      },
      "execution_count": 43,
      "outputs": []
    },
    {
      "cell_type": "code",
      "source": [
        "# Z-test for study hours based on counseling attendance\n",
        "group1 = df[df[\"Counseling Attendance\"] == 1][\"Study Hours Per Week\"]\n",
        "group2 = df[df[\"Counseling Attendance\"] == 0][\"Study Hours Per Week\"]\n",
        "z_stat, p_value_ztest = ztest(group1, group2)"
      ],
      "metadata": {
        "id": "_sw17SR7Ymi2"
      },
      "execution_count": 44,
      "outputs": []
    },
    {
      "cell_type": "code",
      "source": [
        "# Chi-square test (Gender vs. Counseling Attendance)\n",
        "cross_tab = pd.crosstab(df[\"Gender\"], df[\"Counseling Attendance\"])\n",
        "chi2_stat, p_value_chi2, _, _ = chi2_contingency(cross_tab)"
      ],
      "metadata": {
        "id": "3fsruXhUYn71"
      },
      "execution_count": 45,
      "outputs": []
    },
    {
      "cell_type": "code",
      "source": [
        "# Print results\n",
        "print(\"Model Performance:\")\n",
        "for model, metrics in results.items():\n",
        "    print(f\"{model}: {metrics}\")"
      ],
      "metadata": {
        "colab": {
          "base_uri": "https://localhost:8080/"
        },
        "id": "W8bRf1TaZAyC",
        "outputId": "c00ee39b-29cb-4d8a-951e-ecbfc0ec2fa8"
      },
      "execution_count": 46,
      "outputs": [
        {
          "output_type": "stream",
          "name": "stdout",
          "text": [
            "Model Performance:\n",
            "Logistic Regression: {'Accuracy': 0.046052631578947366, 'Precision': 0.05072778099093888, 'Recall': 0.046052631578947366, 'F1-Score': 0.04768185973618911}\n",
            "Random Forest: {'Accuracy': 0.1118421052631579, 'Precision': 0.11969898705096074, 'Recall': 0.1118421052631579, 'F1-Score': 0.11245119740899104}\n",
            "SVM: {'Accuracy': 0.06578947368421052, 'Precision': 0.05992771978772786, 'Recall': 0.06578947368421052, 'F1-Score': 0.05917014469646048}\n"
          ]
        }
      ]
    },
    {
      "cell_type": "code",
      "source": [
        "print(\"\\nTop 3 Important Features:\", top_features)\n",
        "print(\"\\nT-test p-value:\", p_value_ttest)\n",
        "print(\"\\nZ-test p-value:\", p_value_ztest)\n",
        "print(\"\\nChi-square test p-value:\", p_value_chi2)"
      ],
      "metadata": {
        "colab": {
          "base_uri": "https://localhost:8080/"
        },
        "id": "PZNoHIGUZB-G",
        "outputId": "e887c887-8497-4d0f-a523-99e2b95de878"
      },
      "execution_count": 47,
      "outputs": [
        {
          "output_type": "stream",
          "name": "stdout",
          "text": [
            "\n",
            "Top 3 Important Features: [('Study Hours Per Week', np.float64(0.0998295252406086)), ('Age', np.float64(0.07703860353413254)), ('Physical Exercise (Hours per week)', np.float64(0.07570636133360892))]\n",
            "\n",
            "T-test p-value: 0.0005939960520346076\n",
            "\n",
            "Z-test p-value: 0.2395012959973023\n",
            "\n",
            "Chi-square test p-value: 0.25916012793906545\n"
          ]
        }
      ]
    },
    {
      "cell_type": "markdown",
      "source": [
        "#1. Conclusion from the T-test (Mental Stress Levels)\n",
        "The T-test compares the mean Mental Stress Level against a hypothesized mean of 5.\n",
        "\n",
        "If p-value < 0.05, we reject the null hypothesis, meaning the average stress level is significantly different from 5.\n",
        "\n",
        "If p-value ≥ 0.05, we fail to reject the null hypothesis, meaning there is no significant difference from 5.\n",
        "\n",
        "Interpretation: Check the p-value from the script output to determine if student stress levels deviate significantly from the hypothesized mean.\n",
        "\n",
        "#2. Conclusion from the Z-test (Study Hours & Counseling Attendance)\n",
        "The Z-test checks whether students who attended counseling have significantly different study hours compared to those who did not.\n",
        "\n",
        "If p-value < 0.05, there is a significant difference in study hours between both groups.\n",
        "\n",
        "If p-value ≥ 0.05, there is no significant difference in study hours.\n",
        "\n",
        "Interpretation: Look at the p-value from the script. If it’s below 0.05, students who attended counseling study significantly more or less than those who didn’t.\n",
        "\n",
        "#3. Conclusion from the Chi-square test (Gender & Counseling Attendance)\n",
        "The Chi-square test checks if there is a relationship between gender and counseling attendance.\n",
        "\n",
        "If p-value < 0.05, there is a significant association, meaning gender influences counseling attendance.\n",
        "\n",
        "If p-value ≥ 0.05, there is no significant association, meaning gender and counseling attendance are independent.\n",
        "\n",
        "Interpretation: Based on the p-value, determine if gender plays a role in students seeking counseling."
      ],
      "metadata": {
        "id": "W__J51xmZXvi"
      }
    }
  ]
}